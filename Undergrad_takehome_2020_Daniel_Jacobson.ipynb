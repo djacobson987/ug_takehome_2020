{
 "cells": [
  {
   "cell_type": "markdown",
   "metadata": {},
   "source": [
    "# Introduction\n",
    "\n",
    "*Daniel Jacobson*\n",
    "\n",
    "This notebook performs an analysis of the operating data for all locations of a portfolio company.\n",
    "\n",
    "This analysis explores the following research question: <br>\n",
    "*\"What factors have led to historical outperformance across locations?\"* <br>"
   ]
  },
  {
   "cell_type": "markdown",
   "metadata": {},
   "source": [
    "# Part 1 - Summary Statistics and Plots"
   ]
  },
  {
   "cell_type": "markdown",
   "metadata": {},
   "source": [
    "### Import Statements"
   ]
  },
  {
   "cell_type": "code",
   "execution_count": 1,
   "metadata": {},
   "outputs": [],
   "source": [
    "import numpy as np\n",
    "import statistics as stat\n",
    "import matplotlib.pyplot as plt\n",
    "import statsmodels.stats.api as sm\n",
    "import pandas as pd"
   ]
  },
  {
   "cell_type": "markdown",
   "metadata": {},
   "source": [
    "### Data Preview"
   ]
  },
  {
   "cell_type": "code",
   "execution_count": 2,
   "metadata": {},
   "outputs": [
    {
     "data": {
      "text/html": [
       "<div>\n",
       "<style scoped>\n",
       "    .dataframe tbody tr th:only-of-type {\n",
       "        vertical-align: middle;\n",
       "    }\n",
       "\n",
       "    .dataframe tbody tr th {\n",
       "        vertical-align: top;\n",
       "    }\n",
       "\n",
       "    .dataframe thead th {\n",
       "        text-align: right;\n",
       "    }\n",
       "</style>\n",
       "<table border=\"1\" class=\"dataframe\">\n",
       "  <thead>\n",
       "    <tr style=\"text-align: right;\">\n",
       "      <th></th>\n",
       "      <th>Location number</th>\n",
       "      <th>Month</th>\n",
       "      <th>State</th>\n",
       "      <th>Gross revenue</th>\n",
       "      <th>Fixed cost</th>\n",
       "      <th>Variable cost</th>\n",
       "      <th>Rental cost</th>\n",
       "      <th>Number of products</th>\n",
       "      <th>Owned</th>\n",
       "    </tr>\n",
       "  </thead>\n",
       "  <tbody>\n",
       "    <tr>\n",
       "      <th>0</th>\n",
       "      <td>1</td>\n",
       "      <td>1</td>\n",
       "      <td>TX</td>\n",
       "      <td>48628171.02</td>\n",
       "      <td>9218156.69</td>\n",
       "      <td>24278189.23</td>\n",
       "      <td>365880</td>\n",
       "      <td>4452</td>\n",
       "      <td>False</td>\n",
       "    </tr>\n",
       "    <tr>\n",
       "      <th>1</th>\n",
       "      <td>1</td>\n",
       "      <td>2</td>\n",
       "      <td>TX</td>\n",
       "      <td>48107179.24</td>\n",
       "      <td>10587747.35</td>\n",
       "      <td>25116844.41</td>\n",
       "      <td>365880</td>\n",
       "      <td>4452</td>\n",
       "      <td>False</td>\n",
       "    </tr>\n",
       "    <tr>\n",
       "      <th>2</th>\n",
       "      <td>1</td>\n",
       "      <td>3</td>\n",
       "      <td>TX</td>\n",
       "      <td>64352278.29</td>\n",
       "      <td>10193873.77</td>\n",
       "      <td>33703499.83</td>\n",
       "      <td>365880</td>\n",
       "      <td>4452</td>\n",
       "      <td>False</td>\n",
       "    </tr>\n",
       "    <tr>\n",
       "      <th>3</th>\n",
       "      <td>1</td>\n",
       "      <td>4</td>\n",
       "      <td>TX</td>\n",
       "      <td>45943677.96</td>\n",
       "      <td>8764165.00</td>\n",
       "      <td>24037719.47</td>\n",
       "      <td>365880</td>\n",
       "      <td>4452</td>\n",
       "      <td>False</td>\n",
       "    </tr>\n",
       "    <tr>\n",
       "      <th>4</th>\n",
       "      <td>1</td>\n",
       "      <td>5</td>\n",
       "      <td>TX</td>\n",
       "      <td>32761434.98</td>\n",
       "      <td>8022116.43</td>\n",
       "      <td>16432119.18</td>\n",
       "      <td>365880</td>\n",
       "      <td>4452</td>\n",
       "      <td>False</td>\n",
       "    </tr>\n",
       "  </tbody>\n",
       "</table>\n",
       "</div>"
      ],
      "text/plain": [
       "   Location number  Month State  Gross revenue   Fixed cost  Variable cost  \\\n",
       "0                1      1    TX    48628171.02   9218156.69    24278189.23   \n",
       "1                1      2    TX    48107179.24  10587747.35    25116844.41   \n",
       "2                1      3    TX    64352278.29  10193873.77    33703499.83   \n",
       "3                1      4    TX    45943677.96   8764165.00    24037719.47   \n",
       "4                1      5    TX    32761434.98   8022116.43    16432119.18   \n",
       "\n",
       "   Rental cost  Number of products  Owned  \n",
       "0       365880                4452  False  \n",
       "1       365880                4452  False  \n",
       "2       365880                4452  False  \n",
       "3       365880                4452  False  \n",
       "4       365880                4452  False  "
      ]
     },
     "execution_count": 2,
     "metadata": {},
     "output_type": "execute_result"
    }
   ],
   "source": [
    "file = open(\"undergrad_takehome_2020.csv\")\n",
    "data = pd.read_csv(file)\n",
    "data.head(5)"
   ]
  },
  {
   "cell_type": "markdown",
   "metadata": {},
   "source": [
    "### Calculation of the annual profit margin for each location"
   ]
  },
  {
   "cell_type": "code",
   "execution_count": 3,
   "metadata": {},
   "outputs": [],
   "source": [
    "n = len(data[\"Location number\"]) # number of data entrys\n",
    "annual_profit_margins = [] # array of each location's annual profit margin\n",
    "gross_revenue = 0\n",
    "fixed_cost = 0\n",
    "variable_cost = 0\n",
    "apm = 0 # annual profit margin\n",
    "\n",
    "# for loop that iterates over every data entry\n",
    "for i in range(0,n):\n",
    "    gross_revenue += data[\"Gross revenue\"][i] # summation of annual gross revenue\n",
    "    fixed_cost += data[\"Fixed cost\"][i]       # summation of annual fixed cost\n",
    "    variable_cost += data[\"Variable cost\"][i] # summation of annual variable cost\n",
    "    \n",
    "    # if statement checks for the end of the year for a location's data\n",
    "    if data[\"Month\"][i] == 12:\n",
    "        \n",
    "        # annual profit margin = (revenue - costs) / revenue x 100\n",
    "        apm = (gross_revenue - (fixed_cost + variable_cost)) / gross_revenue * 100\n",
    "        annual_profit_margins.append(apm)\n",
    "        gross_revenue = 0  # rests the annual gross revenue for the next location\n",
    "        fixed_cost = 0     # rests the annual fixed cost for the next location\n",
    "        variable_cost = 0  # rests the annual variable cost for the next location\n",
    "        apm = 0            # rests the annual profit margin for the next location"
   ]
  },
  {
   "cell_type": "markdown",
   "metadata": {},
   "source": [
    "### Calculation of the annual profit margin mean and median"
   ]
  },
  {
   "cell_type": "code",
   "execution_count": 4,
   "metadata": {
    "scrolled": true
   },
   "outputs": [
    {
     "name": "stdout",
     "output_type": "stream",
     "text": [
      "The mean annual profit margin of a typical store is: 25.4\n",
      "The median annual profit margin of a typical store is: 26.71\n"
     ]
    }
   ],
   "source": [
    "mean = np.mean(annual_profit_margins)\n",
    "median = stat.median(annual_profit_margins)\n",
    "print(\"The mean annual profit margin of a typical store is: \" + str(round(mean,2)))\n",
    "print(\"The median annual profit margin of a typical store is: \" + str(round(median,2)))"
   ]
  },
  {
   "cell_type": "markdown",
   "metadata": {},
   "source": [
    "### Visualization of the distribution of the annual profit margins"
   ]
  },
  {
   "cell_type": "code",
   "execution_count": 5,
   "metadata": {},
   "outputs": [
    {
     "data": {
      "image/png": "[encoded data removed]",
      "text/plain": [
       "<Figure size 432x288 with 1 Axes>"
      ]
     },
     "metadata": {
      "needs_background": "light"
     },
     "output_type": "display_data"
    }
   ],
   "source": [
    "fig1, ax1 = plt.subplots()\n",
    "ax1.hist(annual_profit_margins,color='maroon')\n",
    "ax1.set_title(\"Distribution of the Annual Profit\\n Margin of a Typical Store\", fontsize=17)\n",
    "ax1.set_xlabel(\"Annual Profit Margin (percent)\", fontsize=15)\n",
    "ax1.set_ylabel(\"Frequency\", fontsize=15)\n",
    "ax1.tick_params(labelsize=11)\n",
    "plt.show()"
   ]
  },
  {
   "cell_type": "markdown",
   "metadata": {},
   "source": [
    "The distribution of the annual profit margin of a typical store is negatively skewed.\n",
    "The median is greater than the mean."
   ]
  },
  {
   "cell_type": "markdown",
   "metadata": {},
   "source": [
    "### Calculation of the monthly and quarterly aggregate revenues across all stores"
   ]
  },
  {
   "cell_type": "code",
   "execution_count": 6,
   "metadata": {},
   "outputs": [],
   "source": [
    "monthly_aggregate_revenue = [0]*12 # an empty array of length 12 (monthly)\n",
    "quarterly_aggregate_revenue = [0]*4 # an empty array of length 4 (quarterly)\n",
    "q = 1 # financial quarter (1-4)\n",
    "\n",
    "# for loop that iterates over every data entry\n",
    "for i in range(0,n):\n",
    "    month = data[\"Month\"][i]\n",
    "    \n",
    "    # summation of monthly aggregate revenue\n",
    "    monthly_aggregate_revenue[month - 1] += float(data[\"Gross revenue\"][i])\n",
    "    \n",
    "    # summation of quarterly aggregate revenue\n",
    "    quarterly_aggregate_revenue[q - 1] += float(data[\"Gross revenue\"][i])\n",
    "    \n",
    "    # if statement that checks for the end of a quarter\n",
    "    if month % 3 == 0:\n",
    "        q += 1\n",
    "        \n",
    "    # if statement that checks for the end of the year\n",
    "    if q == 5:\n",
    "        q = 1"
   ]
  },
  {
   "cell_type": "markdown",
   "metadata": {},
   "source": [
    "### Visualization of the monthly aggregate revenues across all stores"
   ]
  },
  {
   "cell_type": "code",
   "execution_count": 7,
   "metadata": {
    "scrolled": true
   },
   "outputs": [
    {
     "data": {
      "image/png": "[encoded data removed]",
      "text/plain": [
       "<Figure size 720x288 with 1 Axes>"
      ]
     },
     "metadata": {
      "needs_background": "light"
     },
     "output_type": "display_data"
    }
   ],
   "source": [
    "month_labels = [\"Jan\", \"Feb\", \"Mar\", \"Apr\", \"May\", \"June\", \"July\", \"Aug\", \"Sep\", \"Oct\",\n",
    "        \"Nov\", \"Dec\"]\n",
    "fig2, ax2 = plt.subplots(figsize=(10,4))\n",
    "ax2.plot(month_labels, monthly_aggregate_revenue, color=\"darkorange\")\n",
    "ax2.set_title(\"Monthly Aggregate Revenue Across All Stores\", fontsize=17)\n",
    "ax2.set_xlabel(\"Month\", fontsize=15)\n",
    "ax2.set_ylabel(\"Aggregate Revenue\\n (tens of billions)\", fontsize=15)\n",
    "ax2.tick_params(labelsize=11)\n",
    "plt.show()"
   ]
  },
  {
   "cell_type": "markdown",
   "metadata": {},
   "source": [
    "The monthly aggregate revenue peaks during the last month of every quarter. "
   ]
  },
  {
   "cell_type": "markdown",
   "metadata": {},
   "source": [
    "### Visualization of the quarterly aggregate revenues across all stores"
   ]
  },
  {
   "cell_type": "code",
   "execution_count": 8,
   "metadata": {},
   "outputs": [
    {
     "data": {
      "image/png": "[encoded data removed]",
      "text/plain": [
       "<Figure size 432x288 with 1 Axes>"
      ]
     },
     "metadata": {
      "needs_background": "light"
     },
     "output_type": "display_data"
    }
   ],
   "source": [
    "quarter_labels = [\"Q 1\", \"Q 2\", \"Q 3\", \"Q 4\"]\n",
    "fig3, ax3 = plt.subplots()\n",
    "ax3.plot(quarter_labels, quarterly_aggregate_revenue, color=\"maroon\")\n",
    "ax3.set_title(\"Quarterly Aggregate Revenue\\n Across All Stores\", fontsize=17)\n",
    "ax3.set_xlabel(\"Financial Calendar Quarter\", fontsize=15)\n",
    "ax3.set_ylabel(\"Aggregate Revenue\\n (tens of billions)\", fontsize=15)\n",
    "ax3.tick_params(labelsize=11)\n",
    "plt.show()"
   ]
  },
  {
   "cell_type": "code",
   "execution_count": 9,
   "metadata": {},
   "outputs": [
    {
     "name": "stdout",
     "output_type": "stream",
     "text": [
      "The aggregate revenue of all stores had a sharp decline in revenue this past year.\n",
      "The company saw a -3.03 percent decrease in revenue after the first quarter.\n"
     ]
    }
   ],
   "source": [
    "# calculation of percent decrease from quarter 1 to quarter 2\n",
    "percent_decrease = (quarterly_aggregate_revenue[1] - quarterly_aggregate_revenue[0]) / quarterly_aggregate_revenue[0] * 100\n",
    "print(\"The aggregate revenue of all stores had a sharp decline in revenue this past year.\")\n",
    "print(\"The company saw a \" + str(round(percent_decrease,2)) + \" percent decrease in revenue after the first quarter.\")"
   ]
  },
  {
   "cell_type": "markdown",
   "metadata": {},
   "source": [
    "# Part 2 - Cleaning the Data"
   ]
  },
  {
   "cell_type": "markdown",
   "metadata": {},
   "source": [
    "### Calculation of the rent-adjusted annual profit margin"
   ]
  },
  {
   "cell_type": "code",
   "execution_count": 10,
   "metadata": {},
   "outputs": [],
   "source": [
    "gross_revenue = 0\n",
    "fixed_cost = 0\n",
    "variable_cost = 0\n",
    "rental_cost = 0\n",
    "apm = 0         # annual profit margin\n",
    "rent_apms = []  # annual profit margin of rented locations \n",
    "owned_apms = [] # annual profit margin of owned locations\n",
    "\n",
    "# for loop that iterates over every data entry\n",
    "for i in range(0,n):\n",
    "    gross_revenue += float(data[\"Gross revenue\"][i]) # summation of annual gross revenue\n",
    "    fixed_cost += float(data[\"Fixed cost\"][i])       # summation of annual fixed cost\n",
    "    variable_cost += float(data[\"Variable cost\"][i]) # summation of annual variable cost\n",
    "    \n",
    "    # if statement that checks for the end of the year\n",
    "    if data[\"Month\"][i] == 12:\n",
    "        \n",
    "        # if statement that checks if a location is owned\n",
    "        if data[\"Owned\"][i]:\n",
    "            \n",
    "            # annual profit margin = (revenue - costs) / revenue x 100\n",
    "            apm = (gross_revenue - (fixed_cost + variable_cost)) / gross_revenue * 100\n",
    "            owned_apms.append(apm)\n",
    "        else:\n",
    "            rental_cost = float(data[\"Rental cost\"][i])*12 # annual rental cost\n",
    "            \n",
    "            # annual profit margin = (revenue - costs) / revenue x 100\n",
    "            apm = (gross_revenue - (fixed_cost + variable_cost + rental_cost)) / gross_revenue * 100\n",
    "            rent_apms.append(apm)        \n",
    "        \n",
    "        gross_revenue = 0  # rests the annual gross revenue for the next location\n",
    "        fixed_cost = 0     # rests the annual fixed cost for the next location\n",
    "        variable_cost = 0  # rests the annual variable cost for the next location\n",
    "        rental_cost = 0    # rests the annual rental cost for the next location\n",
    "        apm = 0            # rests the annual profit margin for the next location"
   ]
  },
  {
   "cell_type": "markdown",
   "metadata": {},
   "source": [
    "# Part 3 - Quantify Drivers of Success"
   ]
  },
  {
   "cell_type": "markdown",
   "metadata": {},
   "source": [
    "### Visualization of the annual profit margin of owned vs. rented locations"
   ]
  },
  {
   "cell_type": "code",
   "execution_count": 11,
   "metadata": {},
   "outputs": [
    {
     "data": {
      "image/png": "[encoded data removed]",
      "text/plain": [
       "<Figure size 432x288 with 1 Axes>"
      ]
     },
     "metadata": {
      "needs_background": "light"
     },
     "output_type": "display_data"
    }
   ],
   "source": [
    "fig4, ax4 = plt.subplots()\n",
    "ax4.boxplot([owned_apms,rent_apms])\n",
    "ax4.set_title(\"Comparison of the Annual Profit Margin\\n of Owned vs. Rented Locations\", fontsize=17)\n",
    "ax4.set_xticklabels([\"Owned Annual\\n Profit Margin\",\"Rented Annual\\n Profit Margin\"])\n",
    "ax4.set_ylabel(\"Annual Profit Margin\\n (percent)\", fontsize=15)\n",
    "ax4.tick_params(labelsize=11)\n",
    "plt.show()"
   ]
  },
  {
   "cell_type": "markdown",
   "metadata": {},
   "source": [
    "There is a noticeable difference in variability of the annual profit margins. The owned annual profit margin has a minimum around 20 percent and a maximum just below 40 percent. The rented annual profit margin has an outlier near 0 percent, a minimum just under 10 percent, and a maximum just over 40 percent. High variability is a sign of inefficiency. By inspection, it appears that the owned annual profit margin mean is higher than the mean of the rented."
   ]
  },
  {
   "cell_type": "markdown",
   "metadata": {},
   "source": [
    "### Unpaired t-test of the annual profit margin mean of owned vs. rented locations"
   ]
  },
  {
   "cell_type": "markdown",
   "metadata": {},
   "source": [
    "The unpaired t-test will test the following Hypothesis:\n",
    "$$H_{0}: \\mu_{1} - \\mu_{2} = 0$$\n",
    "$$H_{\\alpha}: \\mu_{1} - \\mu_{2} \\neq 0$$"
   ]
  },
  {
   "cell_type": "code",
   "execution_count": 12,
   "metadata": {},
   "outputs": [
    {
     "name": "stdout",
     "output_type": "stream",
     "text": [
      "                          Test for equality of means                          \n",
      "==============================================================================\n",
      "                 coef    std err          t      P>|t|      [0.005      0.995]\n",
      "------------------------------------------------------------------------------\n",
      "subset #1      4.2102      0.740      5.688      0.000       2.242       6.178\n",
      "==============================================================================\n"
     ]
    }
   ],
   "source": [
    "comparison = sm.CompareMeans(sm.DescrStatsW(owned_apms), sm.DescrStatsW(rent_apms))\n",
    "print(comparison.summary(use_t=True, alpha=0.01, usevar='unequal', value=0))"
   ]
  },
  {
   "cell_type": "markdown",
   "metadata": {},
   "source": [
    "The results of the unpaired t-test confirm that the annual profit margin mean of the owned locations is significantly higher than the rented locations. There is 99% certainty that the owned annual profit margin mean is 2.242 to 6.178 percent higher than the rented mean."
   ]
  },
  {
   "cell_type": "markdown",
   "metadata": {},
   "source": [
    "### Conclusion"
   ]
  },
  {
   "cell_type": "markdown",
   "metadata": {},
   "source": [
    "The main cause for historical underperformance in this system stems from the monthly costs of renting a location. The locations that are rented have a noticeably larger variance of annual profit margin compared to the owned locations. High variance is a sign of inefficacy. Reducing the variance in a system improves quality and efficiency. Also, owned locations have a statistically significant difference in annual profit margin mean than rented locations. On average, the owned locations generate between 2 and 6 percent more annual profit margin. Owning a location is substantially cost beneficial and more efficient."
   ]
  },
  {
   "cell_type": "code",
   "execution_count": null,
   "metadata": {},
   "outputs": [],
   "source": []
  }
 ],
 "metadata": {
  "kernelspec": {
   "display_name": "Python 3",
   "language": "python",
   "name": "python3"
  },
  "language_info": {
   "codemirror_mode": {
    "name": "ipython",
    "version": 3
   },
   "file_extension": ".py",
   "mimetype": "text/x-python",
   "name": "python",
   "nbconvert_exporter": "python",
   "pygments_lexer": "ipython3",
   "version": "3.7.0"
  }
 },
 "nbformat": 4,
 "nbformat_minor": 2
}
